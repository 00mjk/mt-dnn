{
 "cells": [
  {
   "cell_type": "markdown",
   "metadata": {},
   "source": [
    "# Tutorial for Run Your Own Task in MT-DNN\n",
    "To run your own task with MT-DNN is actually easy with 3 steps:\n",
    "1. add your task into task define config\n",
    "2. prepare your task data with correct schema\n",
    "3. specify your task name in args for train.py"
   ]
  },
  {
   "cell_type": "markdown",
   "metadata": {},
   "source": [
    "## Add Your task into task define config\n",
    "MT-DNN adapts [yaml](https://en.wikipedia.org/wiki/YAML) file as config file format. \n",
    "Here is a piece of example task define config :"
   ]
  },
  {
   "cell_type": "raw",
   "metadata": {},
   "source": [
    "cola:\n",
    "  data_format: PremiseOnly\n",
    "  encoder_type: BERT\n",
    "  dropout_p: 0.05\n",
    "  enable_san: false\n",
    "  metric_meta:\n",
    "  - ACC\n",
    "  - MCC\n",
    "  loss:\n",
    "  - CeCriterion\n",
    "  n_class: 2\n",
    "  task_type: Classification\n",
    "mnli:\n",
    "  data_format: PremiseAndOneHypothesis\n",
    "  encoder_type: BERT\n",
    "  dropout_p: 0.3\n",
    "  enable_san: true\n",
    "  labels:\n",
    "  - contradiction\n",
    "  - neutral\n",
    "  - entailment\n",
    "  metric_meta:\n",
    "  - ACC\n",
    "  loss:\n",
    "  - CeCriterion\n",
    "  n_class: 3\n",
    "  split_names:\n",
    "  - train\n",
    "  - matched_dev\n",
    "  - mismatched_dev\n",
    "  - matched_test\n",
    "  - mismatched_test\n",
    "  task_type: Classification"
   ]
  },
  {
   "cell_type": "code",
   "execution_count": null,
   "metadata": {},
   "outputs": [],
   "source": []
  }
 ],
 "metadata": {
  "kernelspec": {
   "display_name": "Python 3",
   "language": "python",
   "name": "python3"
  },
  "language_info": {
   "codemirror_mode": {
    "name": "ipython",
    "version": 3
   },
   "file_extension": ".py",
   "mimetype": "text/x-python",
   "name": "python",
   "nbconvert_exporter": "python",
   "pygments_lexer": "ipython3",
   "version": "3.7.3"
  }
 },
 "nbformat": 4,
 "nbformat_minor": 2
}
